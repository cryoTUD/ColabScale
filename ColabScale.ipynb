{
  "nbformat": 4,
  "nbformat_minor": 0,
  "metadata": {
    "colab": {
      "provenance": [],
      "machine_shape": "hm",
      "gpuType": "L4",
      "authorship_tag": "ABX9TyN8n77n0CqBrcI4FIZua6NC",
      "include_colab_link": true
    },
    "kernelspec": {
      "name": "python3",
      "display_name": "Python 3"
    },
    "language_info": {
      "name": "python"
    },
    "accelerator": "GPU"
  },
  "cells": [
    {
      "cell_type": "markdown",
      "metadata": {
        "id": "view-in-github",
        "colab_type": "text"
      },
      "source": [
        "<a href=\"https://colab.research.google.com/github/cryoTUD/ColabScale/blob/main/ColabScale.ipynb\" target=\"_parent\"><img src=\"https://colab.research.google.com/assets/colab-badge.svg\" alt=\"Open In Colab\"/></a>"
      ]
    },
    {
      "cell_type": "markdown",
      "source": [
        "<img src=\"https://gitlab.tudelft.nl/aj-lab/locscale/-/raw/master/doc/img/LocScale_logo.png\" height=\"200\" align=\"right\" style=\"height:240px\">\n",
        "\n",
        "#```ColabScale```\n",
        "\n",
        "Easy to use cryo-EM map sharpening using [```LocScale```](https://gitlab.tudelft.nl/aj-lab/locscale) and generation of feature-enhanced maps with [```LocScale-EMmerNet```](https://gitlab.tudelft.nl/aj-lab/emmernet).\n",
        "\n",
        "For more details, see <a href=\"#Instructions\">bottom</a> of the notebook and read our manuscripts.\n"
      ],
      "metadata": {
        "id": "fJazoLi-Uy0k"
      }
    },
    {
      "cell_type": "code",
      "execution_count": null,
      "metadata": {
        "id": "-GTilmzk5oTv"
      },
      "outputs": [],
      "source": [
        "# @title Setup environment\n",
        "%%capture\n",
        "%%time\n",
        "import os\n",
        "\n",
        "if not os.path.isfile(\"CONDA_READY\"):\n",
        "   print(\"installing conda...\")\n",
        "   os.system(\"pip install -q condacolab\")\n",
        "   import condacolab\n",
        "   condacolab.install()\n",
        "   os.system(\"conda install -c conda-forge gfortran\")\n",
        "   os.system(\"conda create -n locscale python=3.8\")\n",
        "   os.system(\"touch CONDA_READY\")\n",
        "\n",
        "# downgrade CUDA version to 11.1 (for compatibility with tf model)\n",
        "!wget https://developer.download.nvidia.com/compute/cuda/11.1.0/local_installers/cuda-repo-ubuntu2004-11-1-local_11.1.0-455.23.05-1_amd64.deb\n",
        "!dpkg -i cuda-repo-ubuntu2004-11-1-local_11.1.0-455.23.05-1_amd64.deb\n",
        "!apt-key add /var/cuda-repo-ubuntu2004-11-1-local/7fa2af80.pub\n",
        "!apt-get update\n",
        "!apt-get install cuda-11-1\n",
        "!export CUDA_PATH=/usr/local/cuda-11.1/\n",
        "\n",
        "# install monomer library\n",
        "!mkdir /usr/local/monomer_lib\n",
        "!git clone https://github.com/MonomerLibrary/monomers.git /usr/local/monomer_lib\n",
        "!export CLIBD_MON=/usr/local/monomer_lib/\n",
        "\n",
        "# downgrade base python to Python3.8\n",
        "!conda init\n",
        "!conda install python=3.8 --no-pin\n",
        "!pip install locscale\n",
        "!pip install ipykernel\n",
        "\n",
        "# include side packages from 3.8\n",
        "import sys\n",
        "sys.path.append('/usr/local/lib/python3.8/site-packages')\n",
        "\n"
      ]
    },
    {
      "cell_type": "code",
      "source": [
        "#@markdown ### Input\n",
        "\n",
        "from google.colab import files\n",
        "import os\n",
        "\n",
        "jobname = 'test' #@param {type:\"string\"}\n",
        "job_type = \"feature_enhance\" # @param [\"model-based\", \"model-free\", \"hybrid\", \"feature_enhance\"]\n",
        "#@markdown - __model-based__: ```LocScale``` sharpening using atomic model\n",
        "#@markdown - __model-free__: ```LocScale``` sharpening without atomic model\n",
        "#@markdown - __hybrid__: ```LocScale``` sharpening with partial atomic model\n",
        "#@markdown - __feature_enhance__: Confidence-aware density modification with ```LocScale-EMmerNet```\n",
        "\n",
        "\n",
        "use_model = False #@param {type:\"boolean\"}\n",
        "if use_model == True:\n",
        "  input_model_path = os.path.join(jobname,f\"model\")\n",
        "  os.makedirs(input_model_path, exist_ok=True)\n",
        "  print(\"Please select model file...\")\n",
        "  uploaded = files.upload()\n",
        "  for model in uploaded.keys():\n",
        "     if model.endswith('.pdb'):\n",
        "        os.rename(model,os.path.join(input_model_path,model))\n",
        "     else:\n",
        "        print(\"Uploaded file is not a PDB file; please select correct file...\")\n",
        "        os.remove(model)\n",
        "        uploaded = files.upload()\n",
        "        os.rename(model,os.path.join(input_model_path,model))\n",
        "     use_model = True\n",
        "elif use_model == False:\n",
        "   input_model_path = None\n",
        "\n",
        "#@markdown - `True` will request upload of atomic model as scaling reference. ADP refinement proceeds automaticallly.\n",
        "#@markdown - `False` enables model-free scaling.\n",
        "\n",
        "input_model_path = \"/content/map.mrc\"\n",
        "\n",
        "use_half_maps = True #@param {type:\"boolean\"}\n",
        "if use_half_maps == True:\n",
        "  input_half_map_path = os.path.join(jobname,f\"half_maps\")\n",
        "  os.makedirs(input_half_map_path, exist_ok=True)\n",
        "  print(\"Please select half maps...\")\n",
        "  uploaded = files.upload()\n",
        "  for map in uploaded.keys():\n",
        "     if map.endswith('.mrc'):\n",
        "        os.rename(map,os.path.join(input_half_map_path,map))\n",
        "     else:\n",
        "        print(\"Uploaded file is not a MRC file; please select correct file...\")\n",
        "        os.remove(map)\n",
        "        uploaded = files.upload()\n",
        "        os.rename(model,os.path.join(input_half_map_path,map))\n",
        "     use_half_maps = True\n",
        "elif use_half_maps == False:\n",
        "   input_half_map_path = None\n",
        "\n",
        "#@markdown - Use of half maps is recommended.\n",
        "\n",
        "#@markdown #### Other options\n",
        "\n",
        "#model_resolution = None #@param {type:\"string\"}\n",
        "symmetry = \"C1\" #@param {type:\"string\"}"
      ],
      "metadata": {
        "id": "yFZC88DqMDd0"
      },
      "execution_count": null,
      "outputs": []
    },
    {
      "cell_type": "code",
      "source": [
        "!locscale feature_enhance -np 8 -em map.mrc -ma mask.mrc -v -o test_fe_sym.mrc -gpus 0 -sym C4"
      ],
      "metadata": {
        "id": "2mFm-9cHI4wc"
      },
      "execution_count": null,
      "outputs": []
    }
  ]
}