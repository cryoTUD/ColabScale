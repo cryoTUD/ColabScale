{
  "cells": [
    {
      "cell_type": "markdown",
      "metadata": {
        "id": "view-in-github",
        "colab_type": "text"
      },
      "source": [
        "<a href=\"https://colab.research.google.com/github/cryoTUD/ColabScale/blob/main/ColabScale.ipynb\" target=\"_parent\"><img src=\"https://colab.research.google.com/assets/colab-badge.svg\" alt=\"Open In Colab\"/></a>"
      ]
    },
    {
      "cell_type": "markdown",
      "metadata": {
        "id": "ycW-NM-L-n3p"
      },
      "source": [
        "<img src=\"https://gitlab.tudelft.nl/aj-lab/locscale/-/raw/master/doc/img/LocScale_logo.png\" height=\"200\" align=\"right\" style=\"height:240px\">\n",
        "\n",
        "#```ColabScale```\n",
        "\n",
        "Easy to use cryo-EM map sharpening using [```LocScale```](https://gitlab.tudelft.nl/aj-lab/locscale) and generation of feature-enhanced maps with [```LocScale-EMmerNet```](https://gitlab.tudelft.nl/aj-lab/emmernet).\n",
        "\n",
        "For more details, see <a href=\"#Instructions\">bottom</a> of the notebook and read our manuscripts.\n"
      ]
    },
    {
      "cell_type": "code",
      "execution_count": 1,
      "metadata": {
        "cellView": "form",
        "collapsed": true,
        "id": "qpaakiGcnDuV"
      },
      "outputs": [],
      "source": [
        "# @title Setup environment\n",
        "%%capture\n",
        "%%time\n",
        "import os\n",
        "\n",
        "if not os.path.isfile(\"CONDA_READY\"):\n",
        "   print(\"installing conda...\")\n",
        "   os.system(\"pip install -q condacolab\")\n",
        "   import condacolab\n",
        "   condacolab.install()\n",
        "   os.system(\"conda install -c conda-forge gfortran\")\n",
        "   os.system(\"conda create -n locscale python=3.8\")\n",
        "   os.system(\"touch CONDA_READY\")\n",
        "\n",
        "# downgrade CUDA version to 11.1 (for compatibility with tf model)\n",
        "!wget https://developer.download.nvidia.com/compute/cuda/11.1.0/local_installers/cuda-repo-ubuntu2004-11-1-local_11.1.0-455.23.05-1_amd64.deb\n",
        "!dpkg -i cuda-repo-ubuntu2004-11-1-local_11.1.0-455.23.05-1_amd64.deb\n",
        "!apt-key add /var/cuda-repo-ubuntu2004-11-1-local/7fa2af80.pub\n",
        "!apt-get update\n",
        "!apt-get install cuda-11-1\n",
        "!export CUDA_PATH=/usr/local/cuda-11.1/\n",
        "!nvcc --version"
      ]
    },
    {
      "cell_type": "code",
      "execution_count": 1,
      "metadata": {
        "cellView": "form",
        "id": "197vr8zMn89M",
        "colab": {
          "base_uri": "https://localhost:8080/"
        },
        "outputId": "07a9a3a9-1253-4dce-a651-d4f271481494"
      },
      "outputs": [
        {
          "output_type": "stream",
          "name": "stdout",
          "text": [
            "CPU times: user 520 ms, sys: 105 ms, total: 625 ms\n",
            "Wall time: 2min 26s\n"
          ]
        }
      ],
      "source": [
        "# @title Install LocScale2\n",
        "%%time\n",
        "%%capture\n",
        "%%bash\n",
        "# install CCP4 monomer lib\n",
        "if [ -d \"/usr/local/monomer_lib\" ]; then\n",
        "  echo \"removing existing monomer library\"\n",
        "  rm -rf /usr/local/monomer_lib\n",
        "fi\n",
        "mkdir /usr/local/monomer_lib\n",
        "git clone https://github.com/MonomerLibrary/monomers.git /usr/local/monomer_lib\n",
        "export CLIBD_MON=/usr/local/monomer_lib/\n",
        "# install locscale\n",
        "eval \"$(conda shell.bash hook)\" # copy conda command to shell\n",
        "conda activate locscale\n",
        "pip install ipykernel\n",
        "python --version\n",
        "pip install -q --no-warn-conflicts locscale\n"
      ]
    },
    {
      "cell_type": "code",
      "execution_count": null,
      "metadata": {
        "cellView": "form",
        "id": "VKrua15gH--7"
      },
      "outputs": [],
      "source": [
        "#@markdown ### Input\n",
        "\n",
        "from google.colab import files\n",
        "import os\n",
        "\n",
        "jobname = 'test' #@param {type:\"string\"}\n",
        "job_type = \"feature_enhance\" # @param [\"model-based\", \"model-free\", \"hybrid\", \"feature_enhance\"]\n",
        "#@markdown - __model-based__: ```LocScale``` sharpening using atomic model\n",
        "#@markdown - __model-free__: ```LocScale``` sharpening without atomic model\n",
        "#@markdown - __hybrid__: ```LocScale``` sharpening with partial atomic model\n",
        "#@markdown - __feature_enhance__: Confidence-aware density modification with ```LocScale-EMmerNet```\n",
        "\n",
        "\n",
        "use_model = True #@param {type:\"boolean\"}\n",
        "if use_model == True:\n",
        "  input_model_path = os.path.join(jobname,f\"model\")\n",
        "  os.makedirs(input_model_path, exist_ok=True)\n",
        "  print(\"Please select model file...\")\n",
        "  uploaded = files.upload()\n",
        "  for model in uploaded.keys():\n",
        "     if model.endswith('.pdb'):\n",
        "        os.rename(model,os.path.join(input_model_path,model))\n",
        "     else:\n",
        "        print(\"Uploaded file is not a PDB file; please select correct file...\")\n",
        "        os.remove(model)\n",
        "        uploaded = files.upload()\n",
        "        os.rename(model,os.path.join(input_model_path,model))\n",
        "     use_model = True\n",
        "elif use_model == False:\n",
        "   input_model_path = None\n",
        "\n",
        "input_model_path = \"/content/map.mrc\"\n",
        "\n",
        "use_half_maps = True #@param {type:\"boolean\"}\n",
        "if use_half_maps == True:\n",
        "  input_half_map_path = os.path.join(jobname,f\"half_maps\")\n",
        "  os.makedirs(input_half_map_path, exist_ok=True)\n",
        "  print(\"Please select half maps...\")\n",
        "  uploaded = files.upload()\n",
        "  for map in uploaded.keys():\n",
        "     if map.endswith('.mrc'):\n",
        "        os.rename(map,os.path.join(input_half_map_path,map))\n",
        "     else:\n",
        "        print(\"Uploaded file is not a MRC file; please select correct file...\")\n",
        "        os.remove(map)\n",
        "        uploaded = files.upload()\n",
        "        os.rename(model,os.path.join(input_half_map_path,map))\n",
        "     use_half_maps = True\n",
        "elif use_half_maps == False:\n",
        "   input_half_map_path = None\n"
      ]
    },
    {
      "cell_type": "code",
      "execution_count": null,
      "metadata": {
        "cellView": "form",
        "id": "89tymBVTsSic"
      },
      "outputs": [],
      "source": [
        "#@markdown ## Advanced Options\n",
        "\n",
        "from google.colab import files\n",
        "import os\n",
        "\n",
        "#@markdown Most of these options should be left at default. Please only change if necessary and if you know what you are doing.\n",
        "\n",
        "#@markdown #### FDR options\n",
        "\n",
        "fdr_threshold = 0.01 #@param {type:\"string\"}\n",
        "fdr_window_size = None #@param {type:\"string\"}\n",
        "fdr_filter = None #@param {type:\"string\"}\n",
        "averaging_filter_size = 3 #@param {type:\"string\"}\n",
        "mask_threshold = 0.99 #@param {type:\"string\"}\n",
        "\n",
        "#@markdown \\\n",
        "\n",
        "#@markdown #### EMmerNet options\n",
        "model_path = None #@param {type:\"string\"}\n",
        "low_context_model = False #@param {type:\"boolean\"}\n",
        "batch_size = 8 #@param {type:\"string\"}\n",
        "cube_size = 32 #@param {type:\"string\"}\n",
        "gpu_ids = None #@param {type:\"string\"}\n",
        "\n",
        "#@markdown \\\n",
        "\n",
        "#@markdown #### Reference options\n",
        "\n",
        "model_resolution = None #@param {type:\"string\"}\n",
        "symmetry = \"C1\" #@param {type:\"string\"}\n",
        "\n",
        "\n",
        "\n"
      ]
    },
    {
      "cell_type": "code",
      "execution_count": null,
      "metadata": {
        "colab": {
          "base_uri": "https://localhost:8080/"
        },
        "id": "6ZXyFHGFigxe",
        "outputId": "cfd62301-0ab2-49c0-db6d-c043db7fabca",
        "cellView": "form"
      },
      "outputs": [
        {
          "output_type": "stream",
          "name": "stdout",
          "text": [
            "Number of CPU:  12\n",
            "['/device:GPU:0']\n"
          ]
        }
      ],
      "source": [
        "#@markdown ## Some useful stuff for testing\n",
        "#!pip install gpustat\n",
        "#!gpustat\n",
        "\n",
        "#INFO of CPUs\n",
        "from psutil import *\n",
        "print(\"Number of CPU: \", cpu_count())\n",
        "#!cat /proc/cpuinfo\n",
        "\n",
        "#INFO ON GPUs\n",
        "import tensorflow as tf\n",
        "tf.config.list_physical_devices('GPU')\n",
        "\n",
        "#from tensorflow.python.client import device_lib\n",
        "#tf.test.is_gpu_available()\n",
        "\n",
        "def get_available_gpus():\n",
        "    local_device_protos = device_lib.list_local_devices()\n",
        "    return [x.name for x in local_device_protos if x.device_type == 'GPU']\n",
        "print(get_available_gpus())\n",
        "\n",
        "#! nvidia-smi\n",
        "#!nvcc --version\n"
      ]
    },
    {
      "cell_type": "code",
      "execution_count": null,
      "metadata": {
        "id": "ArPCvr-N5YbJ"
      },
      "outputs": [],
      "source": [
        "%%time\n",
        "%%bash\n",
        "eval \"$(conda shell.bash hook)\"\n",
        "conda activate locscale\n",
        "#pip install ipykernel\n",
        "/usr/local/envs/locscale/bin/locscale feature_enhance -np 8 -em map.mrc -ma mask.mrc -v -o test_fe_sym.mrc -gpus 0 -sym C4\n",
        "#python\n",
        "#from locscale.automate.tools import get_defaults_dictionary\n",
        "#print(get_defaults_dictionary())"
      ]
    }
  ],
  "metadata": {
    "accelerator": "GPU",
    "colab": {
      "gpuType": "L4",
      "machine_shape": "hm",
      "provenance": [],
      "include_colab_link": true
    },
    "kernelspec": {
      "display_name": "Python 3",
      "name": "python3"
    },
    "language_info": {
      "name": "python"
    }
  },
  "nbformat": 4,
  "nbformat_minor": 0
}